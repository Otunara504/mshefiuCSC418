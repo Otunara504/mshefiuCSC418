{
 "cells": [
  {
   "cell_type": "code",
   "execution_count": 14,
   "id": "c73e4ced-31c2-4260-8812-6d018abab4c5",
   "metadata": {},
   "outputs": [],
   "source": [
    "# !pip install opencv-python\n",
    "\n",
    "# Importing the OpenCV library\n",
    "import cv2\n",
    "\n",
    "# path\n",
    "path = 'img/lagos.jpeg'\n",
    "\n",
    "# Reading the image using imread() function\n",
    "img = cv2.imread(path)\n",
    "\n",
    "# Window name in which image is displayed\n",
    "window_name = 'Display Image: Lagos'\n",
    "\n",
    "# Display image\n",
    "cv2.imshow(window_name, img)\n",
    "\n",
    "# Hold the window\n",
    "cv2.waitKey(0)\n",
    "\n",
    "# Remove/delete created GUI window from screen and memory\n",
    "cv2.destroyAllWindows()"
   ]
  },
  {
   "cell_type": "code",
   "execution_count": null,
   "id": "f872ad3f-a14a-4678-855d-586bbc8f0e7f",
   "metadata": {},
   "outputs": [],
   "source": []
  }
 ],
 "metadata": {
  "kernelspec": {
   "display_name": "Python 3 (ipykernel)",
   "language": "python",
   "name": "python3"
  },
  "language_info": {
   "codemirror_mode": {
    "name": "ipython",
    "version": 3
   },
   "file_extension": ".py",
   "mimetype": "text/x-python",
   "name": "python",
   "nbconvert_exporter": "python",
   "pygments_lexer": "ipython3",
   "version": "3.12.4"
  }
 },
 "nbformat": 4,
 "nbformat_minor": 5
}
