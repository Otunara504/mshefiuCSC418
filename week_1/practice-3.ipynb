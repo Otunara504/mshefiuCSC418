{
 "cells": [
  {
   "cell_type": "code",
   "execution_count": 5,
   "id": "f0c37e83-1e1d-4097-8d09-27b500184dda",
   "metadata": {},
   "outputs": [
    {
     "name": "stdout",
     "output_type": "stream",
     "text": [
      "Before saving image: \n",
      "['lagos.jpeg', 'mia.jpeg']\n",
      "Before saving image: \n",
      "['grayImage.jpeg', 'lagos.jpeg', 'mia.jpeg']\n",
      "Successfully saved\n"
     ]
    }
   ],
   "source": [
    "# Python program to explain cv2.imwrite() method\n",
    "\n",
    "# importing cv2\n",
    "import cv2\n",
    "\n",
    "# importing os module\n",
    "import os\n",
    "\n",
    "# Image path\n",
    "image_path = r'C:\\Users\\Maryam_Otunara\\Desktop\\SCHOOL\\Yr4Sem2\\CSC418\\mshefiuCSC418\\week_1\\img\\mia.jpeg'\n",
    "\n",
    "# Image directory\n",
    "directory = r'C:\\Users\\Maryam_Otunara\\Desktop\\SCHOOL\\Yr4Sem2\\CSC418\\mshefiuCSC418\\week_1\\img'\n",
    "\n",
    "# Using cv2.imread() method to read the image\n",
    "img = cv2.imread(image_path, 0)\n",
    "\n",
    "# Change the current directory to specified directory\n",
    "os.chdir(directory)\n",
    "\n",
    "# List files and directories\n",
    "print(\"Before saving image: \")\n",
    "print(os.listdir(directory))\n",
    "\n",
    "# Filename\n",
    "filename = 'grayImage.jpeg'\n",
    "\n",
    "# Using cv2.imwrite() method save the image\n",
    "cv2.imwrite(filename, img)\n",
    "\n",
    "# List files and directories\n",
    "print(\"Before saving image: \")\n",
    "print(os.listdir(directory))\n",
    "\n",
    "print('Successfully saved')"
   ]
  },
  {
   "cell_type": "code",
   "execution_count": null,
   "id": "adf37e07-0c3a-41ec-adc5-159f83f012c6",
   "metadata": {},
   "outputs": [],
   "source": []
  }
 ],
 "metadata": {
  "kernelspec": {
   "display_name": "Python 3 (ipykernel)",
   "language": "python",
   "name": "python3"
  },
  "language_info": {
   "codemirror_mode": {
    "name": "ipython",
    "version": 3
   },
   "file_extension": ".py",
   "mimetype": "text/x-python",
   "name": "python",
   "nbconvert_exporter": "python",
   "pygments_lexer": "ipython3",
   "version": "3.12.4"
  }
 },
 "nbformat": 4,
 "nbformat_minor": 5
}
