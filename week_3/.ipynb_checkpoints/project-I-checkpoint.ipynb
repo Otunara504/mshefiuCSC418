{
 "cells": [
  {
   "cell_type": "code",
   "execution_count": null,
   "id": "e29bbd0e-7017-487c-9952-841b27da697e",
   "metadata": {},
   "outputs": [
    {
     "name": "stdout",
     "output_type": "stream",
     "text": [
      "Museum Artworks Preview\n",
      "Welcome to the Museum Artworks Collection\n"
     ]
    }
   ],
   "source": [
    "import numpy as np\n",
    "import matplotlib.pyplot as plt\n",
    "import cv2 as cv\n",
    "\n",
    "print('Museum Artworks Preview')\n",
    "email = input('Enter your email address: ')\n",
    "age = int(input('What is your age? '))\n",
    "if age == 18 or age > 18:\n",
    "    print('Welcome to the Museum Artworks Collection')\n",
    "    \n",
    "     # Dict for traditional arts image paths\n",
    "    image_paths = {\n",
    "        \"BH\": 'img/art/trad/benin-head.jpg',\n",
    "        \"IH\": 'img/art/trad/ife-head.jpg',\n",
    "        \"IU\": 'img/art/trad/igbo-ukwu.jpg',\n",
    "        \"NH\": 'img/art/trad/nok-head.jpg',\n",
    "        \"PS\": 'img/art/trad/porto-soldier.jpg',\n",
    "        \"TB\": 'img/art/trad/trad-bell.jpg',\n",
    "    }\n",
    "    \n",
    "    # Dict for modern arts image paths\n",
    "    image_paths = {\n",
    "        \"RS\": 'img/art/modern/red-sky.jpg',\n",
    "        \"TD\": 'img/art/modern/the-dancer.jpg',\n",
    "        \"TF\": 'img/art/modern/the-fish.jpg',\n",
    "        \"TG\": 'img/art/modern/the-guard.jpg',\n",
    "        \"TH\": 'img/art/modern/the-head.jpg',\n",
    "        \"TR\": 'img/art/modern/the-reader.jpg',\n",
    "    }\n",
    "    \n",
    "    # Dict for contemporary arts image paths\n",
    "    image_paths = {\n",
    "        \"EO\": 'img/art/contemp/eti-osa.jpg',\n",
    "        \"NW\": 'img/art/contemp/nigerian-woman.jpg',\n",
    "        \"PT\": 'img/art/contemp/palmwine-tappers.jpg',\n",
    "        \"TB\": 'img/art/contemp/the-bird.jpg',\n",
    "        \"TC\": 'img/art/contemp/benin-head.jpg',\n",
    "        \"WH\": 'img/art/contemp/benin-head.jpg',\n",
    "    }\n",
    "\n",
    "    # Image Type Picker\n",
    "            filter = input(\"\"\"Pick a letter based on art choice: \n",
    "            a. Traditional art\n",
    "            b. Modern art\n",
    "            c. Contemporary art\n",
    "            Enter your choice: \"\"\")\n",
    "\n",
    "            if filter == \"a\":\n",
    "                translate_image()\n",
    "else:\n",
    "    print('Invalid Login')\n",
    "\n",
    "def translate_image():\n",
    "    image_path = image_paths[1]\n",
    "            img = cv2.imread(image_path)\n",
    "            \n",
    "            cv2.imshow(\"Profile Picture\", img)\n",
    "            cv2.waitKey(0)\n",
    "            cv2.destroyAllWindows()"
   ]
  }
 ],
 "metadata": {
  "kernelspec": {
   "display_name": "Python 3 (ipykernel)",
   "language": "python",
   "name": "python3"
  },
  "language_info": {
   "codemirror_mode": {
    "name": "ipython",
    "version": 3
   },
   "file_extension": ".py",
   "mimetype": "text/x-python",
   "name": "python",
   "nbconvert_exporter": "python",
   "pygments_lexer": "ipython3",
   "version": "3.12.4"
  }
 },
 "nbformat": 4,
 "nbformat_minor": 5
}
