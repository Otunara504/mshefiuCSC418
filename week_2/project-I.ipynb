{
 "cells": [
  {
   "cell_type": "code",
   "execution_count": 3,
   "id": "7d11971f-4a90-4bcc-b197-f602bb507006",
   "metadata": {},
   "outputs": [
    {
     "name": "stdin",
     "output_type": "stream",
     "text": [
      "Enter username:  sola\n",
      "Enter password:  3\n"
     ]
    },
    {
     "name": "stdout",
     "output_type": "stream",
     "text": [
      "Login Successful, Welcome sola\n"
     ]
    }
   ],
   "source": [
    "import cv2\n",
    "import matplotlib.pyplot as plt\n",
    "import numpy as np\n",
    "\n",
    "def login():\n",
    "    username = input(\"Enter username: \")\n",
    "    password = input(\"Enter password: \")\n",
    "\n",
    "    credentials = [username, password]\n",
    "\n",
    "    # details = [\"Prof. Enase Okonedo\", \"Prof. Chris Ogbechie\", \"Mr. Ikechukwu Don Ogbuike\", \n",
    "    #            \"Dr. Ikechukwu Obiaya\", \"Dr. Sola Oni\", \"Dr Darlington Agbholor\", \n",
    "    #            \"Mrs. Nneka Okekearu\", \"Dr. Adaora Ijeoma Onaga\", \"Dr. Peter Bamkole\"]\n",
    "\n",
    "    # Dict for image paths\n",
    "    image_paths = {\n",
    "        \"AO\": 'img/umc/Adaora-Onaga.jpg',\n",
    "        \"CO\": 'img/umc/Chris-Ogbechie.jpg',\n",
    "        \"DA\": 'img/umc/Darlington-Agbholor.jpg',\n",
    "        \"EO\": 'img/umc/Enase-Okonedo.jpg',\n",
    "        \"IB\": 'img/umc/Ikechukwu-Obiaya.jpg',\n",
    "        \"IG\": 'img/umc/Ikechukwu-Ogbuike.png',\n",
    "        \"NO\": 'img/umc/Nneka-Okekearu.png',\n",
    "        \"PB\": 'img/umc/Peter-Bamkole.jpg',\n",
    "        \"SO\": 'img/umc/Sola-Oni.jpg'\n",
    "    }\n",
    "\n",
    "    # Dict for username and password\n",
    "    records = {\n",
    "        \"AO\": [\"adaora\", \"5\"], \n",
    "        \"CO\": [\"chris\", \"8\"], \n",
    "        \"DA\": [\"darlington\", \"8\"], \n",
    "        \"EO\": [\"enase\", \"7\"], \n",
    "        \"IB\": [\"ikechukwu\", \"6\"], \n",
    "        \"IG\": [\"ogbuike\", \"7\"], \n",
    "        \"NO\": [\"nneka\", \"8\"], \n",
    "        \"PB\": [\"peter\", \"7\"], \n",
    "        \"SO\": [\"sola\", \"3\"]\n",
    "    }\n",
    "\n",
    "    for i in records:\n",
    "        if records[i] == credentials:\n",
    "            print(f\"Login Successful, Welcome {username}\")\n",
    "            \n",
    "            image_path = image_paths[i]\n",
    "            img = cv2.imread(image_path)\n",
    "            \n",
    "            cv2.imshow(\"Profile Picture\", img)\n",
    "            cv2.waitKey(0)\n",
    "            cv2.destroyAllWindows()\n",
    "\n",
    "            break\n",
    "            \n",
    "    else:\n",
    "        print(\"Login Failed\")\n",
    "\n",
    "login()"
   ]
  },
  {
   "cell_type": "code",
   "execution_count": null,
   "id": "ad53fe55-8fb2-4500-9e93-0d5d1d300bcd",
   "metadata": {},
   "outputs": [],
   "source": []
  }
 ],
 "metadata": {
  "kernelspec": {
   "display_name": "Python 3 (ipykernel)",
   "language": "python",
   "name": "python3"
  },
  "language_info": {
   "codemirror_mode": {
    "name": "ipython",
    "version": 3
   },
   "file_extension": ".py",
   "mimetype": "text/x-python",
   "name": "python",
   "nbconvert_exporter": "python",
   "pygments_lexer": "ipython3",
   "version": "3.12.4"
  }
 },
 "nbformat": 4,
 "nbformat_minor": 5
}
