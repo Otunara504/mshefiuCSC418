{
 "cells": [
  {
   "cell_type": "markdown",
   "id": "4e0a987c",
   "metadata": {},
   "source": [
    "Develop an object detection application that will take in as inputs three (3) videos of your favorite locations at PAU using Yolo architecture. The application should have a GUI that will enable the user to interact with the program. Each video should not be more than 1-minute\n",
    "\n",
    "Hint: \n",
    "Use your creative design knowledge to enhance the user experience.\n"
   ]
  },
  {
   "cell_type": "code",
   "execution_count": null,
   "id": "81fdaae2",
   "metadata": {},
   "outputs": [],
   "source": []
  }
 ],
 "metadata": {
  "language_info": {
   "name": "python"
  }
 },
 "nbformat": 4,
 "nbformat_minor": 5
}
