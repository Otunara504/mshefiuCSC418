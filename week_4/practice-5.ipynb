{
 "cells": [
  {
   "cell_type": "code",
   "execution_count": 1,
   "id": "57899e48-48bc-4fe1-b54d-b3ebe9646fbd",
   "metadata": {},
   "outputs": [],
   "source": [
    "# Canny Edge detection\n",
    "\n",
    "import cv2\n",
    "\n",
    "# Load the image\n",
    "image = cv2.imread('img/guy.jpg', cv2.IMREAD_GRAYSCALE)\n",
    "\n",
    "# Resize images\n",
    "image = cv2.resize(image, (400,400))\n",
    "\n",
    "# Perform Canny edge detection\n",
    "edges = cv2.Canny(image, 100, 200) # Adjust the threshold values as needed\n",
    "\n",
    "# Display the original image and the detected edges\n",
    "cv2.imshow('Original', image)\n",
    "cv2.imshow('Edges', edges)\n",
    "\n",
    "# Wait for a key press and close all windows\n",
    "cv2.waitKey(0)\n",
    "cv2.destroyAllWindows()"
   ]
  },
  {
   "cell_type": "code",
   "execution_count": null,
   "id": "7f3e9ae2-bfe9-4a59-9b84-074bdf0b990d",
   "metadata": {},
   "outputs": [],
   "source": []
  }
 ],
 "metadata": {
  "kernelspec": {
   "display_name": "base",
   "language": "python",
   "name": "python3"
  },
  "language_info": {
   "codemirror_mode": {
    "name": "ipython",
    "version": 3
   },
   "file_extension": ".py",
   "mimetype": "text/x-python",
   "name": "python",
   "nbconvert_exporter": "python",
   "pygments_lexer": "ipython3",
   "version": "3.11.11"
  }
 },
 "nbformat": 4,
 "nbformat_minor": 5
}
