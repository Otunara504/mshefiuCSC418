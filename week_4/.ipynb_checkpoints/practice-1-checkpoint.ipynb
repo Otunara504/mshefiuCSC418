{
 "cells": [
  {
   "cell_type": "code",
   "execution_count": 3,
   "id": "86493dd8-346c-47ab-a685-ad9ff09f3d87",
   "metadata": {},
   "outputs": [],
   "source": [
    "# Sobel edge detection\n",
    "\n",
    "import cv2\n",
    "import numpy as np\n",
    "\n",
    "# Load the image\n",
    "image = cv2.imread('img/wole.jpg', cv2.IMREAD_GRAYSCALE)\n",
    "\n",
    "# Resize images\n",
    "image = cv2.resize(image, (500,400))\n",
    "\n",
    "# Apply Sobel edge detection\n",
    "sobel_x = cv2.Sobel(image, cv2.CV_64F, 1, 0, ksize=3)\n",
    "sobel_y = cv2.Sobel(image, cv2.CV_64F, 0, 1, ksize=3)\n",
    "\n",
    "# Combine the gradient images\n",
    "sobel_combined = cv2.magnitude(sobel_x, sobel_y)\n",
    "\n",
    "# Display the original image and the Sobel edges\n",
    "cv2.imshow('Original', image)\n",
    "cv2.imshow('Sobel Edges', np.uint8(sobel_combined))\n",
    "\n",
    "# Wait for a key press and close all windows\n",
    "cv2.waitKey(0)\n",
    "cv2.destroyAllWindows()"
   ]
  },
  {
   "cell_type": "code",
   "execution_count": null,
   "id": "ee5caf0b-9094-4234-ae49-5d810cfc5002",
   "metadata": {},
   "outputs": [],
   "source": []
  }
 ],
 "metadata": {
  "kernelspec": {
   "display_name": "Python 3 (ipykernel)",
   "language": "python",
   "name": "python3"
  },
  "language_info": {
   "codemirror_mode": {
    "name": "ipython",
    "version": 3
   },
   "file_extension": ".py",
   "mimetype": "text/x-python",
   "name": "python",
   "nbconvert_exporter": "python",
   "pygments_lexer": "ipython3",
   "version": "3.12.4"
  }
 },
 "nbformat": 4,
 "nbformat_minor": 5
}
